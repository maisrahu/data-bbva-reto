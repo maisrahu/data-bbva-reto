{
 "cells": [
  {
   "cell_type": "code",
   "execution_count": 2,
   "metadata": {},
   "outputs": [
    {
     "name": "stdout",
     "output_type": "stream",
     "text": [
      "Collecting lightgbm\n",
      "  Downloading lightgbm-3.2.1-py3-none-manylinux1_x86_64.whl (2.0 MB)\n",
      "\u001b[K     |████████████████████████████████| 2.0 MB 279 kB/s eta 0:00:01\n",
      "\u001b[?25hRequirement already satisfied: scikit-learn!=0.22.0 in /home/stevramos/anaconda3/lib/python3.7/site-packages (from lightgbm) (0.23.2)\n",
      "Requirement already satisfied: scipy in /home/stevramos/anaconda3/lib/python3.7/site-packages (from lightgbm) (1.5.2)\n",
      "Requirement already satisfied: wheel in /home/stevramos/anaconda3/lib/python3.7/site-packages (from lightgbm) (0.36.2)\n",
      "Requirement already satisfied: numpy in /home/stevramos/anaconda3/lib/python3.7/site-packages (from lightgbm) (1.19.4)\n",
      "Requirement already satisfied: joblib>=0.11 in /home/stevramos/anaconda3/lib/python3.7/site-packages (from scikit-learn!=0.22.0->lightgbm) (1.0.0)\n",
      "Requirement already satisfied: threadpoolctl>=2.0.0 in /home/stevramos/anaconda3/lib/python3.7/site-packages (from scikit-learn!=0.22.0->lightgbm) (2.1.0)\n",
      "Installing collected packages: lightgbm\n",
      "Successfully installed lightgbm-3.2.1\n"
     ]
    }
   ],
   "source": [
    "!pip install lightgbm"
   ]
  },
  {
   "cell_type": "code",
   "execution_count": 1,
   "metadata": {},
   "outputs": [],
   "source": [
    "import pandas as pd \n",
    "import numpy as np \n",
    "import matplotlib.pyplot as plt\n",
    "import seaborn as sns\n",
    "from utils import *\n",
    "from sklearn.cluster import KMeans\n",
    "from sklearn.preprocessing import LabelEncoder, StandardScaler, MinMaxScaler\n",
    "from sklearn.cluster import KMeans\n",
    "from sklearn.metrics import silhouette_score\n",
    "import pickle\n",
    "\n",
    "from models import *\n",
    "from utils import *"
   ]
  },
  {
   "cell_type": "code",
   "execution_count": 2,
   "metadata": {},
   "outputs": [],
   "source": [
    "filename = 'models/lightgbm_pred.pk'"
   ]
  },
  {
   "cell_type": "code",
   "execution_count": 3,
   "metadata": {},
   "outputs": [],
   "source": [
    "cols_yes = [\"log_ingreso_mens\", \"log_num_seguros_salud\", \"log_rcc_nro_prod\", \"log_rcc_linea_tc_max\", \n",
    "            \"log_rcc_num_ent_sbs\", \"log_edad\", \"log_diff_lj_created\",\"enc_rcc_cal_gral\",\n",
    "            \"enc_nse\", \"enc_segmento\", \"enc_gender\", \"le_provincia\"]"
   ]
  },
  {
   "cell_type": "code",
   "execution_count": 4,
   "metadata": {},
   "outputs": [],
   "source": [
    "MODEL = Model(filename)"
   ]
  },
  {
   "cell_type": "code",
   "execution_count": 5,
   "metadata": {},
   "outputs": [],
   "source": [
    "data = pd.DataFrame()"
   ]
  },
  {
   "cell_type": "code",
   "execution_count": 6,
   "metadata": {},
   "outputs": [],
   "source": [
    "data = data.append({'dni': 74462793, '_last_judgment_at': \"10/26/15 23:24\", 'gender': \"male\", 'created': \"12/5/13 1:48\",\n",
    "            'edad': 47, 'provincia': \"COMAS\", \"rcc_cal_gral\": \"PER\",\n",
    "            'rcc_num_ent_sbs': 4, 'rcc_linea_tc_max': 561.364765, \n",
    "            'rcc_nro_prod': 5, 'num_seguros_salud': 1, \n",
    "            'ingreso_mens': 480.752552, 'tipo_vivienda': \"alqui\",\n",
    "            'tipo_vivienda': \"alqui\",\n",
    "            'sit_laboral':\"DEP\",\n",
    "            'segmento':\"SEGM1\"}, ignore_index=True)"
   ]
  },
  {
   "cell_type": "code",
   "execution_count": null,
   "metadata": {},
   "outputs": [],
   "source": []
  },
  {
   "cell_type": "code",
   "execution_count": 7,
   "metadata": {},
   "outputs": [],
   "source": [
    "xd = process_data(data)"
   ]
  },
  {
   "cell_type": "code",
   "execution_count": 8,
   "metadata": {},
   "outputs": [
    {
     "data": {
      "text/html": [
       "<div>\n",
       "<style scoped>\n",
       "    .dataframe tbody tr th:only-of-type {\n",
       "        vertical-align: middle;\n",
       "    }\n",
       "\n",
       "    .dataframe tbody tr th {\n",
       "        vertical-align: top;\n",
       "    }\n",
       "\n",
       "    .dataframe thead th {\n",
       "        text-align: right;\n",
       "    }\n",
       "</style>\n",
       "<table border=\"1\" class=\"dataframe\">\n",
       "  <thead>\n",
       "    <tr style=\"text-align: right;\">\n",
       "      <th></th>\n",
       "      <th>_last_judgment_at</th>\n",
       "      <th>created</th>\n",
       "      <th>dni</th>\n",
       "      <th>edad</th>\n",
       "      <th>gender</th>\n",
       "      <th>ingreso_mens</th>\n",
       "      <th>num_seguros_salud</th>\n",
       "      <th>provincia</th>\n",
       "      <th>rcc_cal_gral</th>\n",
       "      <th>rcc_linea_tc_max</th>\n",
       "      <th>rcc_nro_prod</th>\n",
       "      <th>rcc_num_ent_sbs</th>\n",
       "      <th>segmento</th>\n",
       "      <th>sit_laboral</th>\n",
       "      <th>tipo_vivienda</th>\n",
       "      <th>diff_lj_created</th>\n",
       "      <th>nse</th>\n",
       "    </tr>\n",
       "  </thead>\n",
       "  <tbody>\n",
       "    <tr>\n",
       "      <th>0</th>\n",
       "      <td>2015-10-26 23:24:00</td>\n",
       "      <td>2013-12-05 01:48:00</td>\n",
       "      <td>74462793.0</td>\n",
       "      <td>47.0</td>\n",
       "      <td>male</td>\n",
       "      <td>480.752552</td>\n",
       "      <td>1.0</td>\n",
       "      <td>COMAS</td>\n",
       "      <td>PER</td>\n",
       "      <td>561.364765</td>\n",
       "      <td>5.0</td>\n",
       "      <td>4.0</td>\n",
       "      <td>SEGM1</td>\n",
       "      <td>DEP</td>\n",
       "      <td>alqui</td>\n",
       "      <td>660</td>\n",
       "      <td>C</td>\n",
       "    </tr>\n",
       "  </tbody>\n",
       "</table>\n",
       "</div>"
      ],
      "text/plain": [
       "    _last_judgment_at             created         dni  edad gender  \\\n",
       "0 2015-10-26 23:24:00 2013-12-05 01:48:00  74462793.0  47.0   male   \n",
       "\n",
       "   ingreso_mens  num_seguros_salud provincia rcc_cal_gral  rcc_linea_tc_max  \\\n",
       "0    480.752552                1.0     COMAS          PER        561.364765   \n",
       "\n",
       "   rcc_nro_prod  rcc_num_ent_sbs segmento sit_laboral tipo_vivienda  \\\n",
       "0           5.0              4.0    SEGM1         DEP         alqui   \n",
       "\n",
       "   diff_lj_created nse  \n",
       "0              660   C  "
      ]
     },
     "execution_count": 8,
     "metadata": {},
     "output_type": "execute_result"
    }
   ],
   "source": [
    "data"
   ]
  },
  {
   "cell_type": "code",
   "execution_count": 9,
   "metadata": {},
   "outputs": [],
   "source": [
    "result = MODEL.predict(data)"
   ]
  },
  {
   "cell_type": "code",
   "execution_count": 10,
   "metadata": {},
   "outputs": [
    {
     "data": {
      "text/plain": [
       "1"
      ]
     },
     "execution_count": 10,
     "metadata": {},
     "output_type": "execute_result"
    }
   ],
   "source": [
    "result[0]"
   ]
  },
  {
   "cell_type": "code",
   "execution_count": 11,
   "metadata": {},
   "outputs": [],
   "source": [
    "productos = pd.read_csv(\"Data/cluster_productos.csv\")"
   ]
  },
  {
   "cell_type": "code",
   "execution_count": 12,
   "metadata": {},
   "outputs": [
    {
     "data": {
      "text/html": [
       "<div>\n",
       "<style scoped>\n",
       "    .dataframe tbody tr th:only-of-type {\n",
       "        vertical-align: middle;\n",
       "    }\n",
       "\n",
       "    .dataframe tbody tr th {\n",
       "        vertical-align: top;\n",
       "    }\n",
       "\n",
       "    .dataframe thead th {\n",
       "        text-align: right;\n",
       "    }\n",
       "</style>\n",
       "<table border=\"1\" class=\"dataframe\">\n",
       "  <thead>\n",
       "    <tr style=\"text-align: right;\">\n",
       "      <th></th>\n",
       "      <th>Unnamed: 0</th>\n",
       "      <th>cluster</th>\n",
       "      <th>producto</th>\n",
       "    </tr>\n",
       "  </thead>\n",
       "  <tbody>\n",
       "    <tr>\n",
       "      <th>0</th>\n",
       "      <td>0</td>\n",
       "      <td>0</td>\n",
       "      <td>Cuentas de Ahorro, Tarjeta de Crédito, BBVA T-...</td>\n",
       "    </tr>\n",
       "    <tr>\n",
       "      <th>1</th>\n",
       "      <td>1</td>\n",
       "      <td>1</td>\n",
       "      <td>Préstamo al Toque, Adelanto en Sueldo</td>\n",
       "    </tr>\n",
       "    <tr>\n",
       "      <th>2</th>\n",
       "      <td>2</td>\n",
       "      <td>2</td>\n",
       "      <td>Depósito a Plazo, Fondos Mutuos</td>\n",
       "    </tr>\n",
       "  </tbody>\n",
       "</table>\n",
       "</div>"
      ],
      "text/plain": [
       "   Unnamed: 0  cluster                                           producto\n",
       "0           0        0  Cuentas de Ahorro, Tarjeta de Crédito, BBVA T-...\n",
       "1           1        1              Préstamo al Toque, Adelanto en Sueldo\n",
       "2           2        2                    Depósito a Plazo, Fondos Mutuos"
      ]
     },
     "execution_count": 12,
     "metadata": {},
     "output_type": "execute_result"
    }
   ],
   "source": [
    "productos"
   ]
  },
  {
   "cell_type": "code",
   "execution_count": 13,
   "metadata": {},
   "outputs": [
    {
     "data": {
      "text/plain": [
       "'Préstamo al Toque, Adelanto en Sueldo'"
      ]
     },
     "execution_count": 13,
     "metadata": {},
     "output_type": "execute_result"
    }
   ],
   "source": [
    "productos[productos['cluster']==1].producto.values[0]"
   ]
  }
 ],
 "metadata": {
  "kernelspec": {
   "display_name": "Python 3",
   "language": "python",
   "name": "python3"
  },
  "language_info": {
   "codemirror_mode": {
    "name": "ipython",
    "version": 3
   },
   "file_extension": ".py",
   "mimetype": "text/x-python",
   "name": "python",
   "nbconvert_exporter": "python",
   "pygments_lexer": "ipython3",
   "version": "3.7.9"
  }
 },
 "nbformat": 4,
 "nbformat_minor": 4
}
